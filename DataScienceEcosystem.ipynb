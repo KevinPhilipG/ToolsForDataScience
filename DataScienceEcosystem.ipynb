{
 "cells": [
  {
   "cell_type": "markdown",
   "id": "039bac93-2865-4531-8fd1-8e1aa5b61dda",
   "metadata": {},
   "source": [
    "# Data Science Tools and Ecosystem"
   ]
  },
  {
   "cell_type": "markdown",
   "id": "777b8920-0cb7-49ea-9ab1-6b46701147ee",
   "metadata": {},
   "source": [
    "In this notebook, Data Science Tools and Ecosystem are summarized."
   ]
  },
  {
   "cell_type": "markdown",
   "id": "398176df-a900-4c24-ba6c-15c74afed965",
   "metadata": {},
   "source": [
    "**Objectives:**\n",
    "- List popular languages for Data Science\n",
    "- List libraries used in python and R for Data Scientists\n",
    "- Learn to work with Jupyter Notebooks"
   ]
  },
  {
   "cell_type": "markdown",
   "id": "ebcb0013-111a-4154-9929-7a7bef71066b",
   "metadata": {},
   "source": [
    "Some of the popular languages that Data Scientists use are:\n",
    "1. python\n",
    "2. R\n",
    "3. Julia\n"
   ]
  },
  {
   "cell_type": "markdown",
   "id": "c3d97aae-8719-40d1-9fca-5eb7c056c1b0",
   "metadata": {},
   "source": [
    "Some of the commonly used libraries used by Data Scientists include:\n",
    "1. NumPy\n",
    "2. Pandas\n",
    "3. Scikit-Learn\n",
    "4. dplyr\n",
    "5. ggplot2\n",
    "6. mlr3\n",
    "\n",
    "The first three are used in python and the last three are used in R"
   ]
  },
  {
   "cell_type": "markdown",
   "id": "061ae2cd-d517-4af0-8f56-5a274c9cb854",
   "metadata": {},
   "source": [
    "|Data Science Tools|\n",
    "|---|\n",
    "|RStudio|\n",
    "|Apache Spark|\n",
    "|TensorFlow|"
   ]
  },
  {
   "cell_type": "markdown",
   "id": "5a40313a-3eb3-4050-9384-b991bb8b15cd",
   "metadata": {},
   "source": [
    "### Below are a few examples of evaluating arithmetic expressions in Python"
   ]
  },
  {
   "cell_type": "code",
   "execution_count": 1,
   "id": "458e7535-f0b0-419e-94f7-d7bf26a93097",
   "metadata": {},
   "outputs": [
    {
     "data": {
      "text/plain": [
       "17"
      ]
     },
     "execution_count": 1,
     "metadata": {},
     "output_type": "execute_result"
    }
   ],
   "source": [
    "# This a simple arithmetic expression to multiply then add integers\n",
    "(3*4)+5"
   ]
  },
  {
   "cell_type": "code",
   "execution_count": 3,
   "id": "e90e81eb-e1a8-45f4-842b-698b3cbca713",
   "metadata": {},
   "outputs": [
    {
     "data": {
      "text/plain": [
       "3.3333333333333335"
      ]
     },
     "execution_count": 3,
     "metadata": {},
     "output_type": "execute_result"
    }
   ],
   "source": [
    "# This will convert 200 minutes to hours by diving by 60\n",
    "200/60"
   ]
  },
  {
   "cell_type": "markdown",
   "id": "72be417b-9fa5-4bbd-9a84-e0b6278066aa",
   "metadata": {},
   "source": [
    "## Author\n",
    "Kevin Gearing"
   ]
  },
  {
   "cell_type": "code",
   "execution_count": null,
   "id": "ae65890a-c0fd-467f-949b-8fe8320dbdd9",
   "metadata": {},
   "outputs": [],
   "source": []
  }
 ],
 "metadata": {
  "kernelspec": {
   "display_name": "Python 3 (ipykernel)",
   "language": "python",
   "name": "python3"
  },
  "language_info": {
   "codemirror_mode": {
    "name": "ipython",
    "version": 3
   },
   "file_extension": ".py",
   "mimetype": "text/x-python",
   "name": "python",
   "nbconvert_exporter": "python",
   "pygments_lexer": "ipython3",
   "version": "3.12.8"
  }
 },
 "nbformat": 4,
 "nbformat_minor": 5
}
